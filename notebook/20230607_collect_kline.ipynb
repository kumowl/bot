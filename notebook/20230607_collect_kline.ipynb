{
 "cells": [
  {
   "cell_type": "code",
   "execution_count": 1,
   "metadata": {},
   "outputs": [],
   "source": [
    "import sys\n",
    "sys.path.append('../')\n",
    "import os"
   ]
  },
  {
   "cell_type": "code",
   "execution_count": 2,
   "metadata": {},
   "outputs": [],
   "source": [
    "import pandas as pd\n",
    "import json\n",
    "\n",
    "\n",
    "#gmo api に必要なライブラリ\n",
    "import requests\n",
    "#import json\n",
    "import hmac\n",
    "import hashlib\n",
    "import time\n",
    "from datetime import datetime\n",
    "from dateutil.relativedelta import relativedelta\n",
    "\n",
    "#自作モジュール\n",
    "from kumo_library.gmo_api.gmo_api import GmoApi_private"
   ]
  },
  {
   "cell_type": "code",
   "execution_count": 3,
   "metadata": {},
   "outputs": [],
   "source": [
    "with open('../secrets.json') as f:\n",
    "    secrets = json.load(f)"
   ]
  },
  {
   "cell_type": "code",
   "execution_count": 4,
   "metadata": {},
   "outputs": [],
   "source": [
    "apiKey    = secrets[\"gmo_api_key\"]\n",
    "secretKey = secrets[\"gmo_api_secret\"]"
   ]
  },
  {
   "cell_type": "code",
   "execution_count": 5,
   "metadata": {},
   "outputs": [],
   "source": [
    "gmo_api_private = GmoApi_private(apiKey, secretKey)"
   ]
  },
  {
   "cell_type": "code",
   "execution_count": 6,
   "metadata": {},
   "outputs": [],
   "source": [
    "BASE_DIR = '../data/historical_klines/'\n",
    "interval = '5min'"
   ]
  },
  {
   "cell_type": "code",
   "execution_count": 9,
   "metadata": {},
   "outputs": [],
   "source": [
    "str_date = pd.to_datetime(datetime.now().date().strftime('%Y%m%d')) - relativedelta(days = 1)\n",
    "end_date = pd.to_datetime(datetime.now().date().strftime('%Y%m%d'))\n",
    "\n",
    "#シンボルのリストを取得\n",
    "symbols = [item['symbol'] for item in gmo_api_private.GmoApi_public.get_ticker()['data']]"
   ]
  },
  {
   "cell_type": "code",
   "execution_count": 10,
   "metadata": {},
   "outputs": [
    {
     "name": "stdout",
     "output_type": "stream",
     "text": [
      "2023-06-17 00:00:00\n",
      "2023-06-18 00:00:00\n"
     ]
    }
   ],
   "source": [
    "now_date = str_date\n",
    "while (now_date <= end_date):\n",
    "    print(now_date)\n",
    "    for symbol in symbols:\n",
    "        klines = gmo_api_private.GmoApi_public.get_klines(symbol=symbol, interval=interval, date=now_date.strftime('%Y%m%d'))['data']\n",
    "        save_dir = f'{BASE_DIR}{interval}/{symbol}/'\n",
    "        if not os.path.exists(save_dir):\n",
    "            os.makedirs(save_dir)\n",
    "        pd.DataFrame(klines).to_csv(f\"{save_dir}{symbol}_{interval}_{now_date.strftime('%Y%m%d')}.csv\", index=False)\n",
    "    now_date = now_date + relativedelta(days = 1)"
   ]
  },
  {
   "attachments": {},
   "cell_type": "markdown",
   "metadata": {},
   "source": []
  },
  {
   "cell_type": "code",
   "execution_count": null,
   "metadata": {},
   "outputs": [],
   "source": []
  }
 ],
 "metadata": {
  "kernelspec": {
   "display_name": "Python 3",
   "language": "python",
   "name": "python3"
  },
  "language_info": {
   "codemirror_mode": {
    "name": "ipython",
    "version": 3
   },
   "file_extension": ".py",
   "mimetype": "text/x-python",
   "name": "python",
   "nbconvert_exporter": "python",
   "pygments_lexer": "ipython3",
   "version": "3.11.3"
  },
  "orig_nbformat": 4
 },
 "nbformat": 4,
 "nbformat_minor": 2
}
