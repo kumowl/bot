{
 "cells": [
  {
   "cell_type": "code",
   "execution_count": 1,
   "metadata": {},
   "outputs": [],
   "source": [
    "import sys\n",
    "sys.path.append('../')\n",
    "import os"
   ]
  },
  {
   "cell_type": "code",
   "execution_count": 2,
   "metadata": {},
   "outputs": [],
   "source": [
    "import pandas as pd\n",
    "import json\n",
    "\n",
    "\n",
    "#gmo api に必要なライブラリ\n",
    "import requests\n",
    "#import json\n",
    "import hmac\n",
    "import hashlib\n",
    "import time\n",
    "from datetime import datetime\n",
    "from dateutil.relativedelta import relativedelta\n",
    "\n",
    "#自作モジュール\n",
    "from gmo_api import GmoApi_private"
   ]
  },
  {
   "cell_type": "code",
   "execution_count": 4,
   "metadata": {},
   "outputs": [],
   "source": [
    "# config.jsonの読み込み\n",
    "with open(\"../config.json\", 'r') as f:\n",
    "    config = json.load(f)\n",
    "\n",
    "apiKey    = config['GMO_API_KEY']\n",
    "secretKey = config['GMO_API_SECRET']\n",
    "\n",
    "gmo_api_private = GmoApi_private(apiKey, secretKey)\n",
    "\n",
    "BASE_DIR = '../data/historical_klines/'\n",
    "\n",
    "interval = '5min'"
   ]
  },
  {
   "cell_type": "code",
   "execution_count": 5,
   "metadata": {},
   "outputs": [],
   "source": [
    "str_date = pd.to_datetime(datetime.now().date().strftime('%Y%m%d')) - relativedelta(days = 7)\n",
    "end_date = pd.to_datetime(datetime.now().date().strftime('%Y%m%d'))\n",
    "\n",
    "#シンボルのリストを取得\n",
    "symbols = [item['symbol'] for item in gmo_api_private.GmoApi_public.get_ticker()['data']]"
   ]
  },
  {
   "cell_type": "code",
   "execution_count": 6,
   "metadata": {},
   "outputs": [
    {
     "name": "stdout",
     "output_type": "stream",
     "text": [
      "2023-08-18 00:00:00\n",
      "2023-08-19 00:00:00\n",
      "2023-08-20 00:00:00\n",
      "2023-08-21 00:00:00\n",
      "2023-08-22 00:00:00\n",
      "2023-08-23 00:00:00\n",
      "2023-08-24 00:00:00\n",
      "2023-08-25 00:00:00\n"
     ]
    }
   ],
   "source": [
    "now_date = str_date\n",
    "while (now_date <= end_date):\n",
    "    print(now_date)\n",
    "    for symbol in symbols:\n",
    "        klines = gmo_api_private.GmoApi_public.get_klines(symbol=symbol, interval=interval, date=now_date.strftime('%Y%m%d'))['data']\n",
    "        save_dir = f'{BASE_DIR}{interval}/{symbol}/'\n",
    "        if not os.path.exists(save_dir):\n",
    "            os.makedirs(save_dir)\n",
    "        pd.DataFrame(klines).to_csv(f\"{save_dir}{symbol}_{interval}_{now_date.strftime('%Y%m%d')}.csv\", index=False)\n",
    "    now_date = now_date + relativedelta(days = 1)"
   ]
  },
  {
   "attachments": {},
   "cell_type": "markdown",
   "metadata": {},
   "source": []
  },
  {
   "cell_type": "code",
   "execution_count": null,
   "metadata": {},
   "outputs": [],
   "source": []
  }
 ],
 "metadata": {
  "kernelspec": {
   "display_name": "Python 3 (ipykernel)",
   "language": "python",
   "name": "python3"
  },
  "language_info": {
   "codemirror_mode": {
    "name": "ipython",
    "version": 3
   },
   "file_extension": ".py",
   "mimetype": "text/x-python",
   "name": "python",
   "nbconvert_exporter": "python",
   "pygments_lexer": "ipython3",
   "version": "3.11.4"
  }
 },
 "nbformat": 4,
 "nbformat_minor": 4
}
