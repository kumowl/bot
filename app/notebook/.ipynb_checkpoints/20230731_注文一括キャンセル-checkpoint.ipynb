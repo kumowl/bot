{
 "cells": [
  {
   "cell_type": "markdown",
   "metadata": {},
   "source": [
    "### 注文を一括キャンセルするノートブック"
   ]
  },
  {
   "cell_type": "markdown",
   "metadata": {},
   "source": [
    "symbolsのリストに変更があると，注文のキャンセルがうまくいかないことがあるので，このノートブックで強制的にキャンセルする."
   ]
  },
  {
   "cell_type": "code",
   "execution_count": 1,
   "metadata": {},
   "outputs": [],
   "source": [
    "import sys\n",
    "sys.path.append('../')\n",
    "import os"
   ]
  },
  {
   "cell_type": "code",
   "execution_count": 2,
   "metadata": {},
   "outputs": [],
   "source": [
    "import json\n",
    "\n",
    "#自作モジュール\n",
    "from gmo_api import GmoApi_private"
   ]
  },
  {
   "cell_type": "code",
   "execution_count": 3,
   "metadata": {},
   "outputs": [],
   "source": [
    "# config.jsonの読み込み\n",
    "with open(\"../config.json\", 'r') as f:\n",
    "    config = json.load(f)\n",
    "\n",
    "apiKey    = config['GMO_API_KEY']\n",
    "secretKey = config['GMO_API_SECRET']\n",
    "symbols = config['symbols']\n",
    "\n",
    "gmo_api_private = GmoApi_private(apiKey, secretKey)\n",
    "\n",
    "BASE_DIR = '../data/historical_klines/'"
   ]
  },
  {
   "cell_type": "code",
   "execution_count": 4,
   "metadata": {},
   "outputs": [
    {
     "data": {
      "text/plain": [
       "['ADA',\n",
       " 'ASTR',\n",
       " 'ATOM',\n",
       " 'BAT',\n",
       " 'BCH',\n",
       " 'BTC',\n",
       " 'DAI',\n",
       " 'DOT',\n",
       " 'ENJ',\n",
       " 'ETH',\n",
       " 'FCR',\n",
       " 'LINK',\n",
       " 'LTC',\n",
       " 'MKR',\n",
       " 'MONA',\n",
       " 'QTUM',\n",
       " 'XEM',\n",
       " 'XLM',\n",
       " 'XRP',\n",
       " 'XTZ',\n",
       " 'XYM']"
      ]
     },
     "execution_count": 4,
     "metadata": {},
     "output_type": "execute_result"
    }
   ],
   "source": [
    "symbols"
   ]
  },
  {
   "cell_type": "code",
   "execution_count": 5,
   "metadata": {},
   "outputs": [
    {
     "data": {
      "text/plain": [
       "{'status': 0, 'data': [], 'responsetime': '2023-08-03T01:36:45.231Z'}"
      ]
     },
     "execution_count": 5,
     "metadata": {},
     "output_type": "execute_result"
    }
   ],
   "source": [
    "gmo_api_private.cancel_all_orders(symbols=symbols)"
   ]
  },
  {
   "cell_type": "code",
   "execution_count": null,
   "metadata": {},
   "outputs": [],
   "source": []
  }
 ],
 "metadata": {
  "kernelspec": {
   "display_name": "Python 3 (ipykernel)",
   "language": "python",
   "name": "python3"
  },
  "language_info": {
   "codemirror_mode": {
    "name": "ipython",
    "version": 3
   },
   "file_extension": ".py",
   "mimetype": "text/x-python",
   "name": "python",
   "nbconvert_exporter": "python",
   "pygments_lexer": "ipython3",
   "version": "3.11.4"
  }
 },
 "nbformat": 4,
 "nbformat_minor": 4
}
